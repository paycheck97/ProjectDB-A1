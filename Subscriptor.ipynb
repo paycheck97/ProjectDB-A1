{
 "cells": [
  {
   "cell_type": "markdown",
   "metadata": {},
   "source": [
    "Script del Subscriptor"
   ]
  },
  {
   "cell_type": "code",
   "execution_count": null,
   "metadata": {
    "scrolled": true
   },
   "outputs": [],
   "source": [
    "import ssl\n",
    "import sys\n",
    "import json\n",
    "import paho.mqtt.client\n",
    "import psycopg2\n",
    "\n",
    "\n",
    "conn = psycopg2.connect(host='bydl8yhl1xvycflftlju-postgresql.services.clever-cloud.com',\n",
    "                        user='ujegvu5yu2q28i5dthj9', password='86WWh0iQz4n8dfN82WGW', dbname='bydl8yhl1xvycflftlju')\n",
    "\n",
    "\n",
    "def doQuery(a):\n",
    "    a = a.decode('utf-8').replace(\"'\", '\"')\n",
    "    a = json.loads(a)\n",
    "    \n",
    "    id_camara = a['id_camara']\n",
    "    hora_entrada = a['hora_entrada']\n",
    "    hora_salida = a['hora_salida']\n",
    "    id_persona = a['id_persona']\n",
    "    macaddress = a['macaddress']\n",
    "\n",
    "    cur = conn.cursor()\n",
    "    sql = \"INSERT INTO estadistica_camara (id_camara, hora_entrada, hora_salida, id_persona, dentro_tienda, sentado_mesa, rip) VALUES (%s, %s, %s, %s, %s, %s, %s);\"\n",
    "    cur.execute(sql, (id_camara, hora_entrada, hora_salida, id_persona, False, False, False))\n",
    "    conn.commit()\n",
    "    if (macaddress != None):\n",
    "        print('ENTRA -> persona con cédula ', id_persona, ' al CENTRO COMERCIAL y con el teléfono ', macaddress)\n",
    "    else:\n",
    "        print('ENTRA -> persona con cédula ', id_persona, ' al CENTRO COMERCIAL')\n",
    "\n",
    "def on_connect(client, userdata, flags, rc):\n",
    "    print(\"Conectado! (%s)\" % client._client_id)\n",
    "    client.subscribe(topic='sambil/#', qos=0)\n",
    "\n",
    "\n",
    "def on_message(client, userdata, message):\n",
    "    doQuery(message.payload)\n",
    "\n",
    "    \n",
    "\n",
    "def main():\n",
    "    client = paho.mqtt.client.Client()\n",
    "    client.on_connect = on_connect\n",
    "    client.message_callback_add('sambil/accesos', on_message)\n",
    "    client.connect(host='localhost')\n",
    "    client.loop_forever()\n",
    "\n",
    "\n",
    "if __name__ == '__main__':\n",
    "    main()\n",
    "\n",
    "sys.exit(0)"
   ]
  },
  {
   "cell_type": "code",
   "execution_count": null,
   "metadata": {},
   "outputs": [],
   "source": []
  }
 ],
 "metadata": {
  "kernelspec": {
   "display_name": "Python 3",
   "language": "python",
   "name": "python3"
  },
  "language_info": {
   "codemirror_mode": {
    "name": "ipython",
    "version": 3
   },
   "file_extension": ".py",
   "mimetype": "text/x-python",
   "name": "python",
   "nbconvert_exporter": "python",
   "pygments_lexer": "ipython3",
   "version": "3.7.3"
  }
 },
 "nbformat": 4,
 "nbformat_minor": 2
}
