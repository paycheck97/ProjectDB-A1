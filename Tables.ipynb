{
 "cells": [
  {
   "cell_type": "markdown",
   "metadata": {},
   "source": [
    "Porcentaje de Ventas - Con teléfono vs Sin teléfono"
   ]
  },
  {
   "cell_type": "code",
   "execution_count": 2,
   "metadata": {},
   "outputs": [
    {
     "data": {
      "text/plain": [
       "<function matplotlib.pyplot.show(*args, **kw)>"
      ]
     },
     "execution_count": 2,
     "metadata": {},
     "output_type": "execute_result"
    },
    {
     "data": {
      "image/png": "[encoded data removed]",
      "text/plain": [
       "<Figure size 1080x360 with 1 Axes>"
      ]
     },
     "metadata": {
      "needs_background": "light"
     },
     "output_type": "display_data"
    }
   ],
   "source": [
    "import matplotlib\n",
    "import matplotlib.pyplot as plt\n",
    "import psycopg2\n",
    "import pandas as pd\n",
    "\n",
    "conn = psycopg2.connect(host='bydl8yhl1xvycflftlju-postgresql.services.clever-cloud.com',\n",
    "                        user='ujegvu5yu2q28i5dthj9', password='86WWh0iQz4n8dfN82WGW', dbname='bydl8yhl1xvycflftlju')\n",
    "\n",
    "cur = conn.cursor()\n",
    "sql = \"SELECT COUNT(id) FROM venta WHERE id_persona IS NOT null;\"\n",
    "cur.execute(sql)\n",
    "conTel = cur.fetchall()\n",
    "conTel = conTel[0][0]\n",
    "\n",
    "cur = conn.cursor()\n",
    "sql = \"SELECT COUNT(id) FROM venta WHERE id_persona IS null;\"\n",
    "cur.execute(sql)\n",
    "sinTel = cur.fetchall()\n",
    "sinTel = sinTel[0][0]\n",
    "\n",
    "total = conTel + sinTel\n",
    "\n",
    "\n",
    "names = ['Grupo con Telefono', 'Grupo sin Telefono']\n",
    "values = [(conTel/total)*100, (sinTel/total)*100]\n",
    "\n",
    "plt.figure(figsize=(15, 5))\n",
    "\n",
    "plt.subplot(131)\n",
    "plt.bar(names, values)\n",
    "plt.grid(True)\n",
    "plt.ylabel('Valores Porcentuales')\n",
    "plt.suptitle('Ventas (porcentaje)')\n",
    "plt.axis([-0.5, 1.5, 0 , 101])\n",
    "plt.show"
   ]
  },
  {
   "cell_type": "markdown",
   "metadata": {},
   "source": [
    "Entradas por cada acceso"
   ]
  },
  {
   "cell_type": "code",
   "execution_count": 3,
   "metadata": {},
   "outputs": [
    {
     "data": {
      "text/plain": [
       "<function matplotlib.pyplot.show(*args, **kw)>"
      ]
     },
     "execution_count": 3,
     "metadata": {},
     "output_type": "execute_result"
    },
    {
     "data": {
      "image/png": "[encoded data removed]",
      "text/plain": [
       "<Figure size 432x288 with 1 Axes>"
      ]
     },
     "metadata": {
      "needs_background": "light"
     },
     "output_type": "display_data"
    }
   ],
   "source": [
    "import psycopg2\n",
    "import pandas as pd\n",
    "import matplotlib\n",
    "import matplotlib.pyplot as plt\n",
    "\n",
    "conn = psycopg2.connect(host='bydl8yhl1xvycflftlju-postgresql.services.clever-cloud.com',\n",
    "                        user='ujegvu5yu2q28i5dthj9', password='86WWh0iQz4n8dfN82WGW', dbname='bydl8yhl1xvycflftlju')\n",
    "\n",
    "cur = conn.cursor()\n",
    "sql = '''\n",
    "    select * from numero_accesos WHERE camara = 1;\n",
    "'''\n",
    "cur.execute(sql)\n",
    "pb = cur.fetchall()\n",
    "pb = pb[0][0]\n",
    "\n",
    "cur = conn.cursor()\n",
    "sql = '''\n",
    "    select * from numero_accesos WHERE camara = 2;\n",
    "'''\n",
    "cur.execute(sql)\n",
    "s1 = cur.fetchall()\n",
    "s1 = s1[0][0]\n",
    "\n",
    "cur = conn.cursor()\n",
    "sql = '''\n",
    "    select * from numero_accesos WHERE camara = 3;\n",
    "'''\n",
    "cur.execute(sql)\n",
    "s2 = cur.fetchall()\n",
    "s2 = s2[0][0]\n",
    "\n",
    "names= ['Planta Baja', 'Sotano 1', 'Sotano 2']\n",
    "values=[pb, s1, s2]\n",
    "plt.bar(names, values)\n",
    "plt.ylabel('nro. accesos')\n",
    "plt.suptitle('Entradas por acceso')\n",
    "plt.show"
   ]
  },
  {
   "cell_type": "markdown",
   "metadata": {},
   "source": [
    "Ventas por cada local"
   ]
  },
  {
   "cell_type": "code",
   "execution_count": 4,
   "metadata": {},
   "outputs": [
    {
     "data": {
      "text/plain": [
       "<function matplotlib.pyplot.show(*args, **kw)>"
      ]
     },
     "execution_count": 4,
     "metadata": {},
     "output_type": "execute_result"
    },
    {
     "data": {
      "image/png": "[encoded data removed]",
      "text/plain": [
       "<Figure size 432x288 with 1 Axes>"
      ]
     },
     "metadata": {
      "needs_background": "light"
     },
     "output_type": "display_data"
    }
   ],
   "source": [
    "import psycopg2\n",
    "import pandas as pd\n",
    "import matplotlib\n",
    "import matplotlib.pyplot as plt\n",
    "matplotlib.axes.Axes.pie\n",
    "matplotlib.pyplot.pie\n",
    "\n",
    "conn = psycopg2.connect(host='bydl8yhl1xvycflftlju-postgresql.services.clever-cloud.com',\n",
    "                        user='ujegvu5yu2q28i5dthj9', password='86WWh0iQz4n8dfN82WGW', dbname='bydl8yhl1xvycflftlju')\n",
    "\n",
    "cur = conn.cursor()\n",
    "sql = '''\n",
    "    SELECT * from ventas_tienda;\n",
    "'''\n",
    "cur.execute(sql)\n",
    "pb = cur.fetchall()\n",
    "num1 = pb[0][0]\n",
    "num2 = pb[1][0]\n",
    "num3 = pb[2][0]\n",
    "var1 = pb[0][1]\n",
    "var2 = pb[1][1]\n",
    "var3 = pb[2][1]\n",
    "\n",
    "\n",
    "names= [var1, var2, var3]\n",
    "values=[num1, num2, num3]\n",
    "plt.bar(names, values)\n",
    "\n",
    "plt.bar(names, values)\n",
    "plt.suptitle('Ventas por tienda')\n",
    "plt.show"
   ]
  },
  {
   "cell_type": "markdown",
   "metadata": {},
   "source": [
    "VISTA -> Personas que más han visitado el Centro Comercial"
   ]
  },
  {
   "cell_type": "code",
   "execution_count": 5,
   "metadata": {},
   "outputs": [
    {
     "data": {
      "text/html": [
       "<div>\n",
       "<style scoped>\n",
       "    .dataframe tbody tr th:only-of-type {\n",
       "        vertical-align: middle;\n",
       "    }\n",
       "\n",
       "    .dataframe tbody tr th {\n",
       "        vertical-align: top;\n",
       "    }\n",
       "\n",
       "    .dataframe thead th {\n",
       "        text-align: right;\n",
       "    }\n",
       "</style>\n",
       "<table border=\"1\" class=\"dataframe\">\n",
       "  <thead>\n",
       "    <tr style=\"text-align: right;\">\n",
       "      <th></th>\n",
       "      <th>count</th>\n",
       "      <th>id_persona</th>\n",
       "      <th>sexo</th>\n",
       "      <th>edad</th>\n",
       "    </tr>\n",
       "  </thead>\n",
       "  <tbody>\n",
       "    <tr>\n",
       "      <th>0</th>\n",
       "      <td>1</td>\n",
       "      <td>25009652</td>\n",
       "      <td>masculino</td>\n",
       "      <td>17</td>\n",
       "    </tr>\n",
       "    <tr>\n",
       "      <th>1</th>\n",
       "      <td>1</td>\n",
       "      <td>8936934</td>\n",
       "      <td>masculino</td>\n",
       "      <td>14</td>\n",
       "    </tr>\n",
       "    <tr>\n",
       "      <th>2</th>\n",
       "      <td>1</td>\n",
       "      <td>31285003</td>\n",
       "      <td>masculino</td>\n",
       "      <td>41</td>\n",
       "    </tr>\n",
       "    <tr>\n",
       "      <th>3</th>\n",
       "      <td>1</td>\n",
       "      <td>46967539</td>\n",
       "      <td>femenino</td>\n",
       "      <td>29</td>\n",
       "    </tr>\n",
       "    <tr>\n",
       "      <th>4</th>\n",
       "      <td>1</td>\n",
       "      <td>16824983</td>\n",
       "      <td>masculino</td>\n",
       "      <td>22</td>\n",
       "    </tr>\n",
       "  </tbody>\n",
       "</table>\n",
       "</div>"
      ],
      "text/plain": [
       "   count  id_persona       sexo  edad\n",
       "0      1    25009652  masculino    17\n",
       "1      1     8936934  masculino    14\n",
       "2      1    31285003  masculino    41\n",
       "3      1    46967539   femenino    29\n",
       "4      1    16824983  masculino    22"
      ]
     },
     "execution_count": 5,
     "metadata": {},
     "output_type": "execute_result"
    }
   ],
   "source": [
    "import psycopg2\n",
    "import pandas as pd\n",
    "\n",
    "conn = psycopg2.connect(host='bydl8yhl1xvycflftlju-postgresql.services.clever-cloud.com',\n",
    "                        user='ujegvu5yu2q28i5dthj9', password='86WWh0iQz4n8dfN82WGW', dbname='bydl8yhl1xvycflftlju')\n",
    "\n",
    "sql = '''\n",
    "    SELECT * FROM mas_visitas;\n",
    "'''\n",
    "\n",
    "df = pd.read_sql(sql, conn)\n",
    "df"
   ]
  },
  {
   "cell_type": "markdown",
   "metadata": {},
   "source": [
    "VISTA -> Ventas de personas sin teléfono vs Ventas de personas con teléfono"
   ]
  },
  {
   "cell_type": "code",
   "execution_count": 10,
   "metadata": {},
   "outputs": [
    {
     "data": {
      "text/html": [
       "<div>\n",
       "<style scoped>\n",
       "    .dataframe tbody tr th:only-of-type {\n",
       "        vertical-align: middle;\n",
       "    }\n",
       "\n",
       "    .dataframe tbody tr th {\n",
       "        vertical-align: top;\n",
       "    }\n",
       "\n",
       "    .dataframe thead th {\n",
       "        text-align: right;\n",
       "    }\n",
       "</style>\n",
       "<table border=\"1\" class=\"dataframe\">\n",
       "  <thead>\n",
       "    <tr style=\"text-align: right;\">\n",
       "      <th></th>\n",
       "      <th>count</th>\n",
       "    </tr>\n",
       "  </thead>\n",
       "  <tbody>\n",
       "    <tr>\n",
       "      <th>0</th>\n",
       "      <td>133</td>\n",
       "    </tr>\n",
       "    <tr>\n",
       "      <th>1</th>\n",
       "      <td>15</td>\n",
       "    </tr>\n",
       "  </tbody>\n",
       "</table>\n",
       "</div>"
      ],
      "text/plain": [
       "   count\n",
       "0    133\n",
       "1     15"
      ]
     },
     "execution_count": 10,
     "metadata": {},
     "output_type": "execute_result"
    }
   ],
   "source": [
    "import psycopg2\n",
    "import pandas as pd\n",
    "\n",
    "conn = psycopg2.connect(host='bydl8yhl1xvycflftlju-postgresql.services.clever-cloud.com',\n",
    "                        user='ujegvu5yu2q28i5dthj9', password='86WWh0iQz4n8dfN82WGW', dbname='bydl8yhl1xvycflftlju')\n",
    "\n",
    "sql = '''\n",
    "    SELECT * FROM comparativa_ventas;\n",
    "'''\n",
    "\n",
    "df = pd.read_sql(sql, conn)\n",
    "df"
   ]
  },
  {
   "cell_type": "markdown",
   "metadata": {},
   "source": [
    "VISTA -> Personas que más han comprado en el Centro Comercial"
   ]
  },
  {
   "cell_type": "code",
   "execution_count": 8,
   "metadata": {},
   "outputs": [
    {
     "data": {
      "text/html": [
       "<div>\n",
       "<style scoped>\n",
       "    .dataframe tbody tr th:only-of-type {\n",
       "        vertical-align: middle;\n",
       "    }\n",
       "\n",
       "    .dataframe tbody tr th {\n",
       "        vertical-align: top;\n",
       "    }\n",
       "\n",
       "    .dataframe thead th {\n",
       "        text-align: right;\n",
       "    }\n",
       "</style>\n",
       "<table border=\"1\" class=\"dataframe\">\n",
       "  <thead>\n",
       "    <tr style=\"text-align: right;\">\n",
       "      <th></th>\n",
       "      <th>compras</th>\n",
       "      <th>id</th>\n",
       "    </tr>\n",
       "  </thead>\n",
       "  <tbody>\n",
       "    <tr>\n",
       "      <th>0</th>\n",
       "      <td>1.300472e+08</td>\n",
       "      <td>33155987</td>\n",
       "    </tr>\n",
       "    <tr>\n",
       "      <th>1</th>\n",
       "      <td>5.247852e+07</td>\n",
       "      <td>34929022</td>\n",
       "    </tr>\n",
       "    <tr>\n",
       "      <th>2</th>\n",
       "      <td>4.716755e+07</td>\n",
       "      <td>12058107</td>\n",
       "    </tr>\n",
       "    <tr>\n",
       "      <th>3</th>\n",
       "      <td>3.652144e+07</td>\n",
       "      <td>8666281</td>\n",
       "    </tr>\n",
       "    <tr>\n",
       "      <th>4</th>\n",
       "      <td>3.625315e+07</td>\n",
       "      <td>25737472</td>\n",
       "    </tr>\n",
       "    <tr>\n",
       "      <th>5</th>\n",
       "      <td>3.547202e+07</td>\n",
       "      <td>30673325</td>\n",
       "    </tr>\n",
       "    <tr>\n",
       "      <th>6</th>\n",
       "      <td>3.176944e+07</td>\n",
       "      <td>12721815</td>\n",
       "    </tr>\n",
       "    <tr>\n",
       "      <th>7</th>\n",
       "      <td>2.673202e+07</td>\n",
       "      <td>46967539</td>\n",
       "    </tr>\n",
       "    <tr>\n",
       "      <th>8</th>\n",
       "      <td>1.535705e+06</td>\n",
       "      <td>8687347</td>\n",
       "    </tr>\n",
       "  </tbody>\n",
       "</table>\n",
       "</div>"
      ],
      "text/plain": [
       "        compras        id\n",
       "0  1.300472e+08  33155987\n",
       "1  5.247852e+07  34929022\n",
       "2  4.716755e+07  12058107\n",
       "3  3.652144e+07   8666281\n",
       "4  3.625315e+07  25737472\n",
       "5  3.547202e+07  30673325\n",
       "6  3.176944e+07  12721815\n",
       "7  2.673202e+07  46967539\n",
       "8  1.535705e+06   8687347"
      ]
     },
     "execution_count": 8,
     "metadata": {},
     "output_type": "execute_result"
    }
   ],
   "source": [
    "\n",
    "import psycopg2\n",
    "import pandas as pd\n",
    "\n",
    "conn = psycopg2.connect(host='bydl8yhl1xvycflftlju-postgresql.services.clever-cloud.com',\n",
    "                        user='ujegvu5yu2q28i5dthj9', password='86WWh0iQz4n8dfN82WGW', dbname='bydl8yhl1xvycflftlju')\n",
    "\n",
    "sql = '''\n",
    "    SELECT * FROM compras_clientes;\n",
    "'''\n",
    "\n",
    "df = pd.read_sql(sql, conn)\n",
    "df"
   ]
  }
 ],
 "metadata": {
  "kernelspec": {
   "display_name": "Python 3",
   "language": "python",
   "name": "python3"
  },
  "language_info": {
   "codemirror_mode": {
    "name": "ipython",
    "version": 3
   },
   "file_extension": ".py",
   "mimetype": "text/x-python",
   "name": "python",
   "nbconvert_exporter": "python",
   "pygments_lexer": "ipython3",
   "version": "3.7.3"
  }
 },
 "nbformat": 4,
 "nbformat_minor": 2
}
